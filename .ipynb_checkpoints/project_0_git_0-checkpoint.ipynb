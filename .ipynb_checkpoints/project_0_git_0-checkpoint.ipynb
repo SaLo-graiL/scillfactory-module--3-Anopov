{
 "cells": [
  {
   "cell_type": "code",
   "execution_count": 1,
   "metadata": {},
   "outputs": [
    {
     "name": "stdout",
     "output_type": "stream",
     "text": [
      "Загадано число от 1 до 100\n",
      "85\n"
     ]
    }
   ],
   "source": [
    "import numpy as np\n",
    "count = 0                            # счетчик попыток\n",
    "number = np.random.randint(1,101)    # загадали число\n",
    "print (\"Загадано число от 1 до 100\")\n",
    "\n",
    "print (number)\n",
    "\n",
    "\n",
    "def game_core_v1(number):\n",
    "    '''Просто угадываем на random, никак не используя информацию о больше или меньше.\n",
    "       Функция принимает загаданное число и возвращает число попыток'''\n",
    "    count = 0\n",
    "    while True:\n",
    "        count+=1\n",
    "        predict = np.random.randint(1,101) # предполагаемое число\n",
    "        if number == predict: \n",
    "            return(count) # выход из цикла, если угадали\n",
    "      \n"
   ]
  },
  {
   "cell_type": "code",
   "execution_count": 6,
   "metadata": {},
   "outputs": [],
   "source": [
    "def game_core_v2(number):\n",
    "    '''Сначала устанавливаем number_1 = 50 (число, ближе к середине из диапазона области загадывания) число, \n",
    "       а потом уменьшаем или увеличиваем его в зависимости от того, больше оно или меньше нужного.\n",
    "       Функция принимает загаданное число и возвращает число попыток'''\n",
    "    count = 1\n",
    "    number_1 = 50                                 # Среднее значение диапазона поиска\n",
    "    predict = np.random.randint(1,101)\n",
    "    \n",
    "    while number != predict:\n",
    "        count+=1\n",
    "        #predict = number_1\n",
    "        if number > number_1: \n",
    "            predict_more = (number_1 + 100)//2    #\"Отбрасываем меньшую половину диапазона. Разбиваем большую половину пополам.\"\n",
    "            if number > predict_more:             #\"Ищем от середины нового диапазона до 100.\"\n",
    "                predict += predict_more\n",
    "            elif number < predict_more:           #\"Ищем в диапазоне от 50 до середины нового диапазона.\"\n",
    "                predict -= predict_more\n",
    "                \n",
    "        elif number < number_1: \n",
    "            predict_less = (1 + number_1)//2      #\"Отбрасываем большую половину диапазона. Разбиваем меньшую половину пополам.\"\n",
    "            if number > predict_less:             #\"Ищем в диапазоне от середины нового диапазона до 50.\"\n",
    "                predict += predict_less\n",
    "            elif number < predict_less:           #\"Ищем в диапазоне от 1 до середины нового диапазона.\"\n",
    "                predict -= predict_less\n",
    "                \n",
    "    return(count) # выход из цикла, если угадали\n",
    "        \n",
    "        "
   ]
  },
  {
   "cell_type": "code",
   "execution_count": null,
   "metadata": {},
   "outputs": [],
   "source": [
    "        \n",
    "def score_game(game_core):\n",
    "    '''Запускаем игру 1000 раз, чтобы узнать, как быстро игра угадывает число'''\n",
    "    count_ls = []\n",
    "    np.random.seed(1)  # фиксируем RANDOM SEED, чтобы ваш эксперимент был воспроизводим!\n",
    "    random_array = np.random.randint(1,101, size=(1000))\n",
    "    for number in random_array:\n",
    "        count_ls.append(game_core(number))\n",
    "    score = int(np.mean(count_ls))\n",
    "    print(f\"Ваш алгоритм угадывает число в среднем за {score} попыток\")\n",
    "    return(score)\n",
    "\n",
    "score_game(game_core_v2)"
   ]
  },
  {
   "cell_type": "code",
   "execution_count": null,
   "metadata": {},
   "outputs": [],
   "source": [
    "import numpy as np\n",
    "number = np.random.randint(1,101)    # загадали число\n",
    "print (number)"
   ]
  },
  {
   "cell_type": "code",
   "execution_count": null,
   "metadata": {},
   "outputs": [],
   "source": [
    "\n",
    "count = 1\n",
    "number_1 = 50                                 # Среднее значение диапазона поиска\n",
    "predict = 38\n",
    "    \n",
    "while number != predict:\n",
    "    count+=1\n",
    "    #predict = number_1\n",
    "    if number > predict: \n",
    "        predict_more = (number_1 + 100)//2    #\"Отбрасываем меньшую половину диапазона. Разбиваем большую половину пополам.\"\n",
    "        if number > predict_more:             #\"Ищем от середины нового диапазона до 100.\"\n",
    "            predict += predict_more\n",
    "        elif number < predict_more:           #\"Ищем в диапазоне от 50 до середины нового диапазона.\"\n",
    "            predict -= predict_more\n",
    "                \n",
    "    elif number < predict:\n",
    "        predict_less = (1 + number_1)//2      #\"Отбрасываем большую половину диапазона. Разбиваем меньшую половину пополам.\"\n",
    "        if number > predict_less:             #\"Ищем в диапазоне от середины нового диапазона до 50.\"\n",
    "            predict += predict_less\n",
    "        elif number < predict_less:           #\"Ищем в диапазоне от 1 до середины нового диапазона.\"\n",
    "            predict -= predict_less\n",
    "                \n",
    "print(count) # выход из цикла, если угадали"
   ]
  },
  {
   "cell_type": "code",
   "execution_count": null,
   "metadata": {},
   "outputs": [],
   "source": []
  }
 ],
 "metadata": {
  "kernelspec": {
   "display_name": "Python 3",
   "language": "python",
   "name": "python3"
  },
  "language_info": {
   "codemirror_mode": {
    "name": "ipython",
    "version": 3
   },
   "file_extension": ".py",
   "mimetype": "text/x-python",
   "name": "python",
   "nbconvert_exporter": "python",
   "pygments_lexer": "ipython3",
   "version": "3.8.3"
  }
 },
 "nbformat": 4,
 "nbformat_minor": 4
}
